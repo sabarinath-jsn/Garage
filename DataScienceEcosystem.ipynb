{
 "cells": [
  {
   "cell_type": "markdown",
   "id": "9b783d67-2197-4e01-90f1-c95409b32ee1",
   "metadata": {},
   "source": [
    "# Data Scinece Tools and Ecosysytem"
   ]
  },
  {
   "cell_type": "markdown",
   "id": "4f4d879c-163c-45e6-853a-54d08ba927d2",
   "metadata": {},
   "source": [
    "In this notebook, Data Science Tools and Ecosystem are summarized."
   ]
  },
  {
   "cell_type": "markdown",
   "id": "047a7234-2a81-4e55-849f-ef39d54dcf34",
   "metadata": {},
   "source": [
    "Objectives:\n",
    "+ Popular languages that Data Scientists\n",
    "+ Commonly used libraries used by Data Scientists\n",
    "+ Data Science Tool"
   ]
  },
  {
   "cell_type": "markdown",
   "id": "aea693d7-87cd-4f92-9ef0-c839a0f382cd",
   "metadata": {},
   "source": [
    "Some of the popular languages that Data Scientists use are:\n",
    "1. Python\n",
    "2. R\n",
    "3. SQL"
   ]
  },
  {
   "cell_type": "markdown",
   "id": "004a05a2-bcfd-453a-b40e-c8fbc41e621b",
   "metadata": {},
   "source": [
    "Some of the commonly used libraries used by Data Scientists include:\n",
    "1. Numpy\n",
    "2. Pandas\n",
    "3. Matplotlib"
   ]
  },
  {
   "cell_type": "markdown",
   "id": "7932bc1e-a4e6-44b2-8ec9-7b97b8ac4588",
   "metadata": {},
   "source": [
    "| Data Science Tools|\n",
    "| --------------------------- |\n",
    "| Jupyter Notebooks |\n",
    "| RStudio |\n",
    "| VS Code (Visual Studio Code) |"
   ]
  },
  {
   "cell_type": "markdown",
   "id": "cfafc54d-b359-415d-a5eb-c415c58a9f0b",
   "metadata": {},
   "source": [
    "### Below are a few examples of evaluating arithmetic expressions in Python"
   ]
  },
  {
   "cell_type": "code",
   "execution_count": 1,
   "id": "e78c642a-293f-49d9-be4d-36f4ca416365",
   "metadata": {},
   "outputs": [
    {
     "data": {
      "text/plain": [
       "17"
      ]
     },
     "execution_count": 1,
     "metadata": {},
     "output_type": "execute_result"
    }
   ],
   "source": [
    "#This a simple arithmetic expression to mutiply then add integers\n",
    "(3*4)+5"
   ]
  },
  {
   "cell_type": "code",
   "execution_count": 2,
   "id": "d49b888b-65ea-44dc-b32f-39ae57612808",
   "metadata": {},
   "outputs": [
    {
     "name": "stdout",
     "output_type": "stream",
     "text": [
      "3.3333333333333335\n"
     ]
    }
   ],
   "source": [
    "#This will convert 200 minutes to hours by diving by 60\n",
    "minutes=200\n",
    "hours=minutes/60\n",
    "print(hours)"
   ]
  },
  {
   "cell_type": "markdown",
   "id": "766908bd-63f4-46c2-9778-2f8451f67fd0",
   "metadata": {},
   "source": [
    "## Author\n",
    "Sabarinath J"
   ]
  },
  {
   "cell_type": "code",
   "execution_count": null,
   "id": "46ffd66d-febb-4635-9d6b-9d3df74a267f",
   "metadata": {},
   "outputs": [],
   "source": []
  }
 ],
 "metadata": {
  "kernelspec": {
   "display_name": "Python 3 (ipykernel)",
   "language": "python",
   "name": "python3"
  },
  "language_info": {
   "codemirror_mode": {
    "name": "ipython",
    "version": 3
   },
   "file_extension": ".py",
   "mimetype": "text/x-python",
   "name": "python",
   "nbconvert_exporter": "python",
   "pygments_lexer": "ipython3",
   "version": "3.11.5"
  }
 },
 "nbformat": 4,
 "nbformat_minor": 5
}
